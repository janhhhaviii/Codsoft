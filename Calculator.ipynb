{
  "nbformat": 4,
  "nbformat_minor": 0,
  "metadata": {
    "colab": {
      "provenance": []
    },
    "kernelspec": {
      "name": "python3",
      "display_name": "Python 3"
    },
    "language_info": {
      "name": "python"
    }
  },
  "cells": [
    {
      "cell_type": "code",
      "execution_count": 1,
      "metadata": {
        "colab": {
          "base_uri": "https://localhost:8080/"
        },
        "id": "6Am8BnheW5S-",
        "outputId": "8b9e9787-26a4-4fbc-958e-3ce0c171b4c3"
      },
      "outputs": [
        {
          "output_type": "stream",
          "name": "stdout",
          "text": [
            "Welcome to Simple Calculator!\n",
            "Choose your operation:\n",
            "1. Addition\n",
            "2. Subtraction\n",
            "3. Multiplication\n",
            "4. Division\n",
            "Enter choice (1/2/3/4): 3\n",
            "Enter first number: 23\n",
            "Enter second number: 56\n",
            "Result: 1288.0\n"
          ]
        }
      ],
      "source": [
        "# Function to add two numbers\n",
        "def add(x, y):\n",
        "    return x + y\n",
        "\n",
        "# Function to subtract two numbers\n",
        "def subtract(x, y):\n",
        "    return x - y\n",
        "\n",
        "# Function to multiply two numbers\n",
        "def multiply(x, y):\n",
        "    return x * y\n",
        "\n",
        "# Function to divide two numbers\n",
        "def divide(x, y):\n",
        "    if y == 0:\n",
        "        return \"Error! Division by zero.\"\n",
        "    else:\n",
        "        return x / y\n",
        "\n",
        "# Main function to take user input and perform calculations\n",
        "def calculator():\n",
        "    print(\"Welcome to Simple Calculator!\")\n",
        "    print(\"Choose your operation:\")\n",
        "    print(\"1. Addition\")\n",
        "    print(\"2. Subtraction\")\n",
        "    print(\"3. Multiplication\")\n",
        "    print(\"4. Division\")\n",
        "\n",
        "    # Take input from the user for operation choice\n",
        "    choice = input(\"Enter choice (1/2/3/4): \")\n",
        "\n",
        "    # Take input from the user for two numbers\n",
        "    num1 = float(input(\"Enter first number: \"))\n",
        "    num2 = float(input(\"Enter second number: \"))\n",
        "\n",
        "    # Perform the selected operation\n",
        "    if choice == '1':\n",
        "        print(\"Result:\", add(num1, num2))\n",
        "    elif choice == '2':\n",
        "        print(\"Result:\", subtract(num1, num2))\n",
        "    elif choice == '3':\n",
        "        print(\"Result:\", multiply(num1, num2))\n",
        "    elif choice == '4':\n",
        "        print(\"Result:\", divide(num1, num2))\n",
        "    else:\n",
        "        print(\"Invalid input\")\n",
        "\n",
        "# Call the calculator function to start the program\n",
        "calculator()\n"
      ]
    }
  ]
}