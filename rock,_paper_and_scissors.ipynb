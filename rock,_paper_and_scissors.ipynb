{
  "nbformat": 4,
  "nbformat_minor": 0,
  "metadata": {
    "colab": {
      "provenance": []
    },
    "kernelspec": {
      "name": "python3",
      "display_name": "Python 3"
    },
    "language_info": {
      "name": "python"
    }
  },
  "cells": [
    {
      "cell_type": "code",
      "execution_count": 1,
      "metadata": {
        "colab": {
          "base_uri": "https://localhost:8080/"
        },
        "id": "wqb8XWW7bFTP",
        "outputId": "ab73979a-fbbf-419a-8248-0603a00576ab"
      },
      "outputs": [
        {
          "output_type": "stream",
          "name": "stdout",
          "text": [
            "Welcome to Rock-Paper-Scissors Game!\n",
            "Choose rock, paper, or scissors: paper\n",
            "You chose: paper\n",
            "Computer chose: scissors\n",
            "Computer wins!\n",
            "Do you want to play again? (yes/no): yes\n",
            "Choose rock, paper, or scissors: paper\n",
            "You chose: paper\n",
            "Computer chose: scissors\n",
            "Computer wins!\n",
            "Do you want to play again? (yes/no): no\n",
            "Thank you for playing!\n"
          ]
        }
      ],
      "source": [
        "import random\n",
        "\n",
        "# Function to get user's choice\n",
        "def get_user_choice():\n",
        "    while True:\n",
        "        user_choice = input(\"Choose rock, paper, or scissors: \").lower()\n",
        "        if user_choice in ['rock', 'paper', 'scissors']:\n",
        "            return user_choice\n",
        "        else:\n",
        "            print(\"Invalid choice. Please choose rock, paper, or scissors.\")\n",
        "\n",
        "# Function to get computer's choice\n",
        "def get_computer_choice():\n",
        "    return random.choice(['rock', 'paper', 'scissors'])\n",
        "\n",
        "# Function to determine the winner\n",
        "def determine_winner(user_choice, computer_choice):\n",
        "    if user_choice == computer_choice:\n",
        "        return \"It's a tie!\"\n",
        "    elif (user_choice == 'rock' and computer_choice == 'scissors') or \\\n",
        "         (user_choice == 'scissors' and computer_choice == 'paper') or \\\n",
        "         (user_choice == 'paper' and computer_choice == 'rock'):\n",
        "        return \"You win!\"\n",
        "    else:\n",
        "        return \"Computer wins!\"\n",
        "\n",
        "# Function to play the game\n",
        "def play_game():\n",
        "    user_choice = get_user_choice()\n",
        "    computer_choice = get_computer_choice()\n",
        "    print(\"You chose:\", user_choice)\n",
        "    print(\"Computer chose:\", computer_choice)\n",
        "    print(determine_winner(user_choice, computer_choice))\n",
        "\n",
        "# Function to ask if the user wants to play again\n",
        "def play_again():\n",
        "    while True:\n",
        "        choice = input(\"Do you want to play again? (yes/no): \").lower()\n",
        "        if choice == 'yes':\n",
        "            return True\n",
        "        elif choice == 'no':\n",
        "            return False\n",
        "        else:\n",
        "            print(\"Invalid input. Please enter 'yes' or 'no'.\")\n",
        "\n",
        "# Main function to run the game\n",
        "def main():\n",
        "    print(\"Welcome to Rock-Paper-Scissors Game!\")\n",
        "    play_game()\n",
        "    while play_again():\n",
        "        play_game()\n",
        "    print(\"Thank you for playing!\")\n",
        "\n",
        "if __name__ == \"__main__\":\n",
        "    main()\n"
      ]
    }
  ]
}